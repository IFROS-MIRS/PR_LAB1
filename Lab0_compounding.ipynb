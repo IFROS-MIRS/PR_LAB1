{
 "cells": [
  {
   "cell_type": "markdown",
   "metadata": {
    "collapsed": false,
    "jupyter": {
     "outputs_hidden": false
    },
    "pycharm": {
     "name": "#%% md\n"
    }
   },
   "source": [
    "# Pose3D\n",
    "Pose3Base is a class inherited from the ndarray of rthe *numpy* to exted it with the direct compounding ($\\oplus$) and the inverse compounding ($\\ominus$) operators.\n",
    "\n",
    "## Direct Compounding ##\n",
    "Let us consider 2 transformations from A-Frame to B-Frame and from B-Frame to C-Frame respectively:\n",
    "$$\n",
    "\\begin{split}\n",
    "\\mathbf{{^A}x_B}&=[^Ax_B~~^Ay_B~~^Az_B~~{^A{\\psi_B}}]^T\\\\\n",
    "\\mathbf{{^B}x_C}&=[^Bx_C~~^By_C~~^Bz_C~~{^B\\psi_C}]^T\n",
    "\\end{split}\n",
    "$$\n",
    "\n",
    "which can be graphycally represented as follows:\n",
    "\n",
    "<center>\n",
    "<img src=\"./Compounding.png\" \n",
    "     width=\"500\" />\n",
    "\n",
    "    Compounding Operation\n",
    "</center>\n",
    "\n",
    "the compounding operation is defined as follows:\n",
    "\n",
    "$$\n",
    "   \\mathbf{{^A}x_{C}}=\\mathbf{{^A}x_B} \\oplus \\mathbf{{^B}x_C}=\n",
    "        \\begin{bmatrix} ^Ax_C~^Ay_C~^Az_C~^A\\psi_C\\end{bmatrix}^T\n",
    "$$\n"
   ]
  },
  {
   "cell_type": "code",
   "execution_count": 3,
   "metadata": {
    "collapsed": false,
    "jupyter": {
     "outputs_hidden": false
    },
    "pycharm": {
     "name": "#%%\n"
    }
   },
   "outputs": [],
   "source": [
    "import numpy as np\n",
    "from math import atan2, cos, sin\n",
    "\n",
    "class Pose3D(np.ndarray):\n",
    "    \"\"\"\n",
    "    Definition of a robot pose in 3 DOF (x, y, yaw). The class inherits from a ndarray.\n",
    "    This class extends the ndarray with the $oplus$ and $ominus$ operators and the corresponding Jacobians.\n",
    "    \"\"\"\n",
    "    def __new__(cls, input_array):\n",
    "        \"\"\"\n",
    "        Constructor of the class. It is called when the class is instantiated. It is required to extend the ndarry numpy class.\n",
    "\n",
    "        :param input_array: array used to initialize the class\n",
    "        :returns: the instance of a Pose3D class object\n",
    "        \"\"\"\n",
    "        assert input_array.shape == (3, 1), \"mean must be a 3x1 vector\"\n",
    "\n",
    "        # Input array is an already formed ndarray instance\n",
    "        # We first cast to be our class type\n",
    "        obj = np.asarray(input_array).view(cls)\n",
    "        # Finally, we must return the newly created object:\n",
    "        return obj\n",
    "\n",
    "    def oplus(AxB, BxC):\n",
    "        \"\"\"\n",
    "        Given a Pose3D object *AxB* (the self object) and a Pose3D object *BxC*, it returns the Pose3D object *AxC*.\n",
    "\n",
    "        .. math::\n",
    "            \\\\mathbf{{^A}x_B} &= \\\\begin{bmatrix} ^Ax_B & ^Ay_B & ^A\\\\psi_B \\\\end{bmatrix}^T \\\\\\\\\n",
    "            \\\\mathbf{{^B}x_C} &= \\\\begin{bmatrix} ^Bx_C & ^By_C & & ^B\\\\psi_C \\\\end{bmatrix}^T \\\\\\\\\n",
    "\n",
    "        The operation is defined as:\n",
    "\n",
    "        .. math::\n",
    "            \\\\mathbf{{^A}x_C} &= \\\\mathbf{{^A}x_B} \\\\oplus \\\\mathbf{{^B}x_C} =\n",
    "            \\\\begin{bmatrix}\n",
    "                ^Ax_B + ^Bx_C  \\\\cos(^A\\\\psi_B) - ^By_C  \\\\sin(^A\\\\psi_B) \\\\\\\\\n",
    "                ^Ay_B + ^Bx_C  \\\\sin(^A\\\\psi_B) + ^By_C  \\\\cos(^A\\\\psi_B) \\\\\\\\\n",
    "                ^A\\\\psi_B + ^B\\\\psi_C\n",
    "            \\\\end{bmatrix}\n",
    "            :label: eq-oplus3dof\n",
    "\n",
    "        :param BxC: C-Frame pose expressed in B-Frame coordinates\n",
    "        :returns: C-Frame pose expressed in A-Frame coordinates\n",
    "        \"\"\"\n",
    "\n",
    "        # TODO: to be completed by the student\n",
    "\n",
    "        pass\n",
    "\n",
    "    def ominus(AxB):\n",
    "        \"\"\"\n",
    "        Inverse pose compounding of the *AxB* pose (the self objetc):\n",
    "\n",
    "        .. math::\n",
    "            ^Bx_A = \\\\ominus ^Ax_B =\n",
    "            \\\\begin{bmatrix}\n",
    "                -^Ax_B \\\\cos(^A\\\\psi_B) - ^Ay_B \\\\sin(^A\\\\psi_B) \\\\\\\\\n",
    "                ^Ax_B \\\\sin(^A\\\\psi_B) - ^Ay_B \\\\cos(^A\\\\psi_B) \\\\\\\\\n",
    "                -^A\\\\psi_B\n",
    "            \\\\end{bmatrix}\n",
    "            :label: eq-ominus3dof\n",
    "\n",
    "        :returns: A-Frame pose expressed in B-Frame coordinates (eq. :eq:`eq-ominus3dof`)\n",
    "        \"\"\"\n",
    "\n",
    "        # TODO: to be completed by the student\n",
    "\n",
    "        pass\n"
   ]
  },
  {
   "cell_type": "markdown",
   "metadata": {
    "collapsed": false,
    "jupyter": {
     "outputs_hidden": false
    },
    "pycharm": {
     "name": "#%% md\n"
    }
   },
   "source": [
    "as well as the inverse compounding ($\\ominus$):\n",
    "\n",
    "<center>\n",
    "<img src=\"./InverseCompounding.png\" \n",
    "     width=\"400\" />\n",
    "\n",
    "    Inverse Compounding Operation\n",
    "</center>\n",
    "\n",
    "### Test\n",
    "Now, let us test the compounding operation. To do it, define the following 2 Poses:\n",
    "$$\\mathbf{^A{x_B}}=\\left[1~2~\\frac{\\pi}{2}\\right]^T$$\n",
    "$$\\mathbf{^B{x_C}}=\\left[3~4~\\pi\\right]^T$$\n",
    "if we compound the 2 poses we get:\n",
    "$$\\mathbf{^A{x_C}}= \\mathbf{^A{x_B}} \\oplus \\mathbf{^B{x_C}}=\\left[-3~5~\\frac{3\\pi}{2}\\right]^T$$\n",
    "Let us program a code to reproduce this behaviour"
   ]
  },
  {
   "cell_type": "code",
   "execution_count": null,
   "metadata": {
    "collapsed": false,
    "jupyter": {
     "outputs_hidden": false
    },
    "pycharm": {
     "name": "#%%\n"
    }
   },
   "outputs": [],
   "source": [
    "AxB = # TODO: complete this sentence to define the Pose Transformation as defined above\n",
    "BxC = # TODO: complete this sentence to  define the Pose Transformation as defined above\n",
    "\n",
    "AxC = # TODO: complete this sentence to compute the pose transformation from A-Frame to C-Frame\n",
    "\n",
    "print(\"AxC=\",AxC.T)"
   ]
  },
  {
   "cell_type": "markdown",
   "metadata": {
    "collapsed": false,
    "jupyter": {
     "outputs_hidden": false
    }
   },
   "source": [
    "Now let us try the ominus operation:\n",
    "$$\\ominus\\mathbf{^A{x_C}}= \\left[5~3~\\frac{-3\\pi}{2}\\right]^T$$"
   ]
  },
  {
   "cell_type": "code",
   "execution_count": null,
   "metadata": {
    "collapsed": false,
    "jupyter": {
     "outputs_hidden": false
    },
    "pycharm": {
     "name": "#%%\n"
    }
   },
   "outputs": [],
   "source": [
    "CxA=# TODO: complete this sentence to compute the pose transformation from C-Frame to A-Frame\n",
    "\n",
    "print(\"CxA=\",CxA.T)"
   ]
  },
  {
   "cell_type": "markdown",
   "metadata": {
    "collapsed": false,
    "jupyter": {
     "outputs_hidden": false
    },
    "pycharm": {
     "name": "#%% md\n"
    }
   },
   "source": []
  }
 ],
 "metadata": {
  "kernelspec": {
   "display_name": "Python 3 (ipykernel)",
   "language": "python",
   "name": "python3"
  },
  "language_info": {
   "codemirror_mode": {
    "name": "ipython",
    "version": 3
   },
   "file_extension": ".py",
   "mimetype": "text/x-python",
   "name": "python",
   "nbconvert_exporter": "python",
   "pygments_lexer": "ipython3",
   "version": "3.8.2"
  }
 },
 "nbformat": 4,
 "nbformat_minor": 4
}